{
 "cells": [
  {
   "cell_type": "markdown",
   "metadata": {
    "id": "ODnWd5AOHArS"
   },
   "source": [
    "# Q1: Theoretical Questions"
   ]
  },
  {
   "cell_type": "markdown",
   "metadata": {
    "id": "RYaLVuVYIYyl"
   },
   "source": [
    "1. Briefly explain the differences between following models:\n",
    "* FVSBN\n",
    "* NADE\n",
    "* RNADE\n",
    "* PixelRNN\n",
    "* PixelCNN\n",
    "\n",
    "----\n",
    "\n",
    "2. Briefly explain the relationships between following concepts:\n",
    "* Neg-log-likelihood\n",
    "* Max-likelihood-estimation\n",
    "* Cross-entropy-loss\n",
    "* KL-divergence\n",
    "\n",
    "---\n",
    "\n",
    "3. True/False questions\n",
    "* $D(p || q)$ is equal to $D(q || p)$\n",
    "* Autoregressive models tries to learn a data distribution in an explicit manner.\n",
    "* In PixelCNN masking applies only to previous pixels."
   ]
  },
  {
   "cell_type": "markdown",
   "metadata": {},
   "source": [
    "1. FVSBN uses core autoregressive formulation and training is in parallel because all conditional probabilities can be computed parallel, they are not sequentail; however, generation process is sequential. NADE also uses same idea with deeper models and it adds parameter sharing method. RNADE estimates some sort of continous distribution parameters like Gaussians. In MADE, we can express Autoregressive models training as an autoencoder but with some restrictions corresponds to the probabilistic chain-rule. PixelRNN takes both RNN and Autoregressive principle and then training, but the training is very slow because of sequential training. On the other hand PixelCNN introduce CNN with masked convolutions and it obeys the chain rule. As a result we can compute all conditional probabilities in parallel in a faster manner. Unfortunatly, generating new images are still slow since it is stil a sequential process.\n",
    "\n",
    "2. \n",
    "\n",
    "3. a) False. It is asymmetric. b) True c)True\n"
   ]
  },
  {
   "cell_type": "markdown",
   "metadata": {
    "id": "r2gIutxFZQ6h"
   },
   "source": [
    "# Q2: *Fully Visible Sigmoid Belief Networks*\n",
    "In this part, first we are going to implement the evaluation function for the FVSBN. Afterwards we are going to implement a function for sampling purposes."
   ]
  },
  {
   "cell_type": "markdown",
   "metadata": {
    "id": "Taw0m23amk1C"
   },
   "source": [
    "Suppose that we have a dataset which contains handwritten digit images. Each image consist of 28x28 black-or-white pixels (binarised MNIST). \n",
    "Our goal is learning a probabilty distribution $p(x) = p(x_1, x_2, \\dots , x_{784})$ such that when we sample an instance from that distribution it should look like a digit.\n",
    "\n",
    "In autoregressive models, we are binding each pixel (variable) conditionally and sequentially (left-to-right etc.). \n",
    "$p(x_1, x_2, \\dots , x_{784}) = p(x_1)p(x_2|x_1)p(x_3|x_1, x_2) \\dots p(x_{784}|x_1, x_2 \\dots, x_{783})$\n",
    "\n",
    "\n",
    "In Fully Visible Sigmoid Belief Networks, we assume;\n",
    "\n",
    "$p(x_i = 1 | x_1, x_2 \\dots, x_{i-1}) = \\sigma(\\alpha^{(i)}_0 + \\sum_{h=1}^{i-1} \\alpha^{(i)}_h x_h)$\n",
    "\n",
    "Where $\\sigma$ denotes the sigmoid function and $\\alpha$ denotes the learnable parameters.\n",
    "\n",
    "Every i'th pixel have parameter for all the previous pixels and also a bias term, so that the model have $1+2+\\dots+784$ parameters.\n",
    "\n",
    "In the coding part, a denotes the $\\alpha$ and it is a [lower triangular matrix](https://wikimedia.org/api/rest_v1/media/math/render/svg/f770c7fa4c212eac3d7d7f9a54f7decbc811276f)\n"
   ]
  },
  {
   "cell_type": "code",
   "execution_count": 13,
   "metadata": {
    "id": "XI8yu5EACHoC"
   },
   "outputs": [],
   "source": [
    "import numpy as np\n",
    "\n",
    "a = np.random.rand(784,784)\n",
    "a = np.tril(a)\n",
    "x = np.random.rand(1,784)\n",
    "\n",
    "def sigmoid(x):\n",
    "    return (1/(1 + np.exp(-x)))\n",
    "\n",
    "\n",
    "def evaluate(a, x):\n",
    "    # args:\n",
    "    #   a -> paramaters np.array(784, 784)\n",
    "    #   x -> image sample np.array(1, 784)\n",
    "\n",
    "    # return:\n",
    "    #   a floating point number that denotes the p(x)\n",
    "\n",
    "\n",
    "    ##### solution ##### \n",
    "    for i in range(x.shape[1]):\n",
    "        for h in range(x.shape[1]):\n",
    "            a[i][h]\n",
    "        \n",
    "\n",
    "\n",
    "    ####################\n",
    "\n",
    "    return p\n",
    "\n",
    "\n",
    "def sample(a):\n",
    "  # args:\n",
    "  #   a -> paramaters (784, 784)\n",
    "\n",
    "  # return:\n",
    "  #   a numpy array in the shape of (28x28)\n",
    "\n",
    "\n",
    "  ##### solution ##### \n",
    "\n",
    "\n",
    "\n",
    "  ####################\n",
    "\n",
    "  return image\n"
   ]
  },
  {
   "cell_type": "code",
   "execution_count": 15,
   "metadata": {},
   "outputs": [
    {
     "data": {
      "text/plain": [
       "(1, 784)"
      ]
     },
     "execution_count": 15,
     "metadata": {},
     "output_type": "execute_result"
    }
   ],
   "source": []
  },
  {
   "cell_type": "markdown",
   "metadata": {
    "id": "ItfIHOKM25ut"
   },
   "source": [
    "# Q3: *Kullback–Leibler Divergence*\n",
    "In this part we are going to implement a function for calculating the KL divergence between given two Gaussians."
   ]
  },
  {
   "cell_type": "markdown",
   "metadata": {
    "id": "4lP8sq8i6wy1"
   },
   "source": [
    "For the math part, [this](https://mr-easy.github.io/2020-04-16-kl-divergence-between-2-gaussian-distributions/) link might help."
   ]
  },
  {
   "cell_type": "code",
   "execution_count": 68,
   "metadata": {
    "id": "dy0_nHwy62eh"
   },
   "outputs": [],
   "source": [
    "import numpy as np\n",
    "\n",
    "def kl_divergence(p, q):\n",
    "    # args:\n",
    "    #   p -> gaussian-1, tupple(mean, std)\n",
    "    #   q -> gaussian-2, tupple(mean, std)\n",
    "\n",
    "    # return:\n",
    "    #   a floating point number that denotes D(p||q)\n",
    "\n",
    "    p_dist = np.random.normal(p[0], p[1], 1000)\n",
    "    q_dist = np.random.normal(q[0], q[1], 1000)\n",
    "\n",
    "    ##### solution ##### \n",
    "    p_sum = np.sum(p_dist)\n",
    "    q_sum = np.sum(q_dist)\n",
    "    first_term = np.log(abs(q_sum)/abs(p_sum))\n",
    "    second_term = (p[0] - q[0]) * q[1] * (p[0] - q[0]) + np.trace(q[1] * q[1])\n",
    "    d = first_term + second_term \n",
    "    ####################\n",
    "\n",
    "    return d\n"
   ]
  },
  {
   "cell_type": "code",
   "execution_count": 69,
   "metadata": {},
   "outputs": [
    {
     "data": {
      "text/plain": [
       "'#d = np.sum(np.where(p_dist != 0, p_dist*np.log(p_dist/q_dist), 0))\\nd = 0.0\\nfor i in range(p_dist.shape[0]):\\n    d += p_dist[i] * np.log(p_dist[i] / q_dist[i])'"
      ]
     },
     "execution_count": 69,
     "metadata": {},
     "output_type": "execute_result"
    }
   ],
   "source": [
    "    \"\"\"#d = np.sum(np.where(p_dist != 0, p_dist*np.log(p_dist/q_dist), 0))\n",
    "    d = 0.0\n",
    "    for i in range(p_dist.shape[0]):\n",
    "        d += p_dist[i] * np.log(p_dist[i] / q_dist[i])\"\"\""
   ]
  },
  {
   "cell_type": "code",
   "execution_count": 70,
   "metadata": {
    "colab": {
     "base_uri": "https://localhost:8080/",
     "height": 265
    },
    "id": "NXSqy5vaDSg_",
    "outputId": "634706eb-b09f-4614-d512-7e43c7fad899"
   },
   "outputs": [
    {
     "data": {
      "image/png": "[encoded data removed]",
      "text/plain": [
       "<Figure size 432x288 with 1 Axes>"
      ]
     },
     "metadata": {
      "needs_background": "light"
     },
     "output_type": "display_data"
    }
   ],
   "source": [
    "# Test\n",
    "import matplotlib.pyplot as plt\n",
    "import numpy as np\n",
    "import scipy.stats as stats\n",
    "import math\n",
    "\n",
    "p = (0, 1)\n",
    "q = (16, 3)\n",
    "y = (20, 6)\n",
    "\n",
    "pl = np.linspace(p[0] - 3*p[1], p[0] + 3*p[1], 100)\n",
    "ql = np.linspace(q[0] - 3*q[1], q[0] + 3*q[1], 100)\n",
    "yl = np.linspace(y[0] - 3*y[1], y[0] + 3*y[1], 100)\n",
    "\n",
    "plt.plot(pl, stats.norm.pdf(pl, p[0], math.sqrt(p[1])))\n",
    "plt.plot(ql, stats.norm.pdf(ql, q[0], math.sqrt(q[1])))\n",
    "plt.plot(yl, stats.norm.pdf(yl, y[0], math.sqrt(y[1])))\n",
    "plt.show()"
   ]
  },
  {
   "cell_type": "code",
   "execution_count": 71,
   "metadata": {
    "id": "34dXRibnDbY9"
   },
   "outputs": [
    {
     "ename": "ValueError",
     "evalue": "diag requires an array of at least two dimensions",
     "output_type": "error",
     "traceback": [
      "\u001b[0;31m---------------------------------------------------------------------------\u001b[0m",
      "\u001b[0;31mValueError\u001b[0m                                Traceback (most recent call last)",
      "\u001b[0;32m<ipython-input-71-6260e1e4fb88>\u001b[0m in \u001b[0;36m<module>\u001b[0;34m\u001b[0m\n\u001b[1;32m      1\u001b[0m \u001b[0;31m# After uncommenting below lines, please run your implementation and observe it\u001b[0m\u001b[0;34m\u001b[0m\u001b[0;34m\u001b[0m\u001b[0;34m\u001b[0m\u001b[0m\n\u001b[1;32m      2\u001b[0m \u001b[0;34m\u001b[0m\u001b[0m\n\u001b[0;32m----> 3\u001b[0;31m \u001b[0mD_pq\u001b[0m \u001b[0;34m=\u001b[0m \u001b[0mkl_divergence\u001b[0m\u001b[0;34m(\u001b[0m\u001b[0mp\u001b[0m\u001b[0;34m,\u001b[0m \u001b[0mq\u001b[0m\u001b[0;34m)\u001b[0m\u001b[0;34m\u001b[0m\u001b[0;34m\u001b[0m\u001b[0m\n\u001b[0m\u001b[1;32m      4\u001b[0m \u001b[0mD_qp\u001b[0m \u001b[0;34m=\u001b[0m \u001b[0mkl_divergence\u001b[0m\u001b[0;34m(\u001b[0m\u001b[0mq\u001b[0m\u001b[0;34m,\u001b[0m \u001b[0mp\u001b[0m\u001b[0;34m)\u001b[0m\u001b[0;34m\u001b[0m\u001b[0;34m\u001b[0m\u001b[0m\n\u001b[1;32m      5\u001b[0m \u001b[0mD_py\u001b[0m \u001b[0;34m=\u001b[0m \u001b[0mkl_divergence\u001b[0m\u001b[0;34m(\u001b[0m\u001b[0mp\u001b[0m\u001b[0;34m,\u001b[0m \u001b[0my\u001b[0m\u001b[0;34m)\u001b[0m\u001b[0;34m\u001b[0m\u001b[0;34m\u001b[0m\u001b[0m\n",
      "\u001b[0;32m<ipython-input-68-dde3e0c43528>\u001b[0m in \u001b[0;36mkl_divergence\u001b[0;34m(p, q)\u001b[0m\n\u001b[1;32m     16\u001b[0m     \u001b[0mq_sum\u001b[0m \u001b[0;34m=\u001b[0m \u001b[0mnp\u001b[0m\u001b[0;34m.\u001b[0m\u001b[0msum\u001b[0m\u001b[0;34m(\u001b[0m\u001b[0mq_dist\u001b[0m\u001b[0;34m)\u001b[0m\u001b[0;34m\u001b[0m\u001b[0;34m\u001b[0m\u001b[0m\n\u001b[1;32m     17\u001b[0m     \u001b[0mfirst_term\u001b[0m \u001b[0;34m=\u001b[0m \u001b[0mnp\u001b[0m\u001b[0;34m.\u001b[0m\u001b[0mlog\u001b[0m\u001b[0;34m(\u001b[0m\u001b[0mabs\u001b[0m\u001b[0;34m(\u001b[0m\u001b[0mq_sum\u001b[0m\u001b[0;34m)\u001b[0m\u001b[0;34m/\u001b[0m\u001b[0mabs\u001b[0m\u001b[0;34m(\u001b[0m\u001b[0mp_sum\u001b[0m\u001b[0;34m)\u001b[0m\u001b[0;34m)\u001b[0m\u001b[0;34m\u001b[0m\u001b[0;34m\u001b[0m\u001b[0m\n\u001b[0;32m---> 18\u001b[0;31m     \u001b[0msecond_term\u001b[0m \u001b[0;34m=\u001b[0m \u001b[0;34m(\u001b[0m\u001b[0mp\u001b[0m\u001b[0;34m[\u001b[0m\u001b[0;36m0\u001b[0m\u001b[0;34m]\u001b[0m \u001b[0;34m-\u001b[0m \u001b[0mq\u001b[0m\u001b[0;34m[\u001b[0m\u001b[0;36m0\u001b[0m\u001b[0;34m]\u001b[0m\u001b[0;34m)\u001b[0m \u001b[0;34m*\u001b[0m \u001b[0mq\u001b[0m\u001b[0;34m[\u001b[0m\u001b[0;36m1\u001b[0m\u001b[0;34m]\u001b[0m \u001b[0;34m*\u001b[0m \u001b[0;34m(\u001b[0m\u001b[0mp\u001b[0m\u001b[0;34m[\u001b[0m\u001b[0;36m0\u001b[0m\u001b[0;34m]\u001b[0m \u001b[0;34m-\u001b[0m \u001b[0mq\u001b[0m\u001b[0;34m[\u001b[0m\u001b[0;36m0\u001b[0m\u001b[0;34m]\u001b[0m\u001b[0;34m)\u001b[0m \u001b[0;34m+\u001b[0m \u001b[0mnp\u001b[0m\u001b[0;34m.\u001b[0m\u001b[0mtrace\u001b[0m\u001b[0;34m(\u001b[0m\u001b[0mq\u001b[0m\u001b[0;34m[\u001b[0m\u001b[0;36m1\u001b[0m\u001b[0;34m]\u001b[0m \u001b[0;34m*\u001b[0m \u001b[0mq\u001b[0m\u001b[0;34m[\u001b[0m\u001b[0;36m1\u001b[0m\u001b[0;34m]\u001b[0m\u001b[0;34m)\u001b[0m\u001b[0;34m\u001b[0m\u001b[0;34m\u001b[0m\u001b[0m\n\u001b[0m\u001b[1;32m     19\u001b[0m     \u001b[0md\u001b[0m \u001b[0;34m=\u001b[0m \u001b[0mfirst_term\u001b[0m \u001b[0;34m+\u001b[0m \u001b[0msecond_term\u001b[0m\u001b[0;34m\u001b[0m\u001b[0;34m\u001b[0m\u001b[0m\n\u001b[1;32m     20\u001b[0m     \u001b[0;31m####################\u001b[0m\u001b[0;34m\u001b[0m\u001b[0;34m\u001b[0m\u001b[0;34m\u001b[0m\u001b[0m\n",
      "\u001b[0;32m<__array_function__ internals>\u001b[0m in \u001b[0;36mtrace\u001b[0;34m(*args, **kwargs)\u001b[0m\n",
      "\u001b[0;32m~/.local/lib/python3.8/site-packages/numpy/core/fromnumeric.py\u001b[0m in \u001b[0;36mtrace\u001b[0;34m(a, offset, axis1, axis2, dtype, out)\u001b[0m\n\u001b[1;32m   1696\u001b[0m         \u001b[0;32mreturn\u001b[0m \u001b[0masarray\u001b[0m\u001b[0;34m(\u001b[0m\u001b[0ma\u001b[0m\u001b[0;34m)\u001b[0m\u001b[0;34m.\u001b[0m\u001b[0mtrace\u001b[0m\u001b[0;34m(\u001b[0m\u001b[0moffset\u001b[0m\u001b[0;34m=\u001b[0m\u001b[0moffset\u001b[0m\u001b[0;34m,\u001b[0m \u001b[0maxis1\u001b[0m\u001b[0;34m=\u001b[0m\u001b[0maxis1\u001b[0m\u001b[0;34m,\u001b[0m \u001b[0maxis2\u001b[0m\u001b[0;34m=\u001b[0m\u001b[0maxis2\u001b[0m\u001b[0;34m,\u001b[0m \u001b[0mdtype\u001b[0m\u001b[0;34m=\u001b[0m\u001b[0mdtype\u001b[0m\u001b[0;34m,\u001b[0m \u001b[0mout\u001b[0m\u001b[0;34m=\u001b[0m\u001b[0mout\u001b[0m\u001b[0;34m)\u001b[0m\u001b[0;34m\u001b[0m\u001b[0;34m\u001b[0m\u001b[0m\n\u001b[1;32m   1697\u001b[0m     \u001b[0;32melse\u001b[0m\u001b[0;34m:\u001b[0m\u001b[0;34m\u001b[0m\u001b[0;34m\u001b[0m\u001b[0m\n\u001b[0;32m-> 1698\u001b[0;31m         \u001b[0;32mreturn\u001b[0m \u001b[0masanyarray\u001b[0m\u001b[0;34m(\u001b[0m\u001b[0ma\u001b[0m\u001b[0;34m)\u001b[0m\u001b[0;34m.\u001b[0m\u001b[0mtrace\u001b[0m\u001b[0;34m(\u001b[0m\u001b[0moffset\u001b[0m\u001b[0;34m=\u001b[0m\u001b[0moffset\u001b[0m\u001b[0;34m,\u001b[0m \u001b[0maxis1\u001b[0m\u001b[0;34m=\u001b[0m\u001b[0maxis1\u001b[0m\u001b[0;34m,\u001b[0m \u001b[0maxis2\u001b[0m\u001b[0;34m=\u001b[0m\u001b[0maxis2\u001b[0m\u001b[0;34m,\u001b[0m \u001b[0mdtype\u001b[0m\u001b[0;34m=\u001b[0m\u001b[0mdtype\u001b[0m\u001b[0;34m,\u001b[0m \u001b[0mout\u001b[0m\u001b[0;34m=\u001b[0m\u001b[0mout\u001b[0m\u001b[0;34m)\u001b[0m\u001b[0;34m\u001b[0m\u001b[0;34m\u001b[0m\u001b[0m\n\u001b[0m\u001b[1;32m   1699\u001b[0m \u001b[0;34m\u001b[0m\u001b[0m\n\u001b[1;32m   1700\u001b[0m \u001b[0;34m\u001b[0m\u001b[0m\n",
      "\u001b[0;31mValueError\u001b[0m: diag requires an array of at least two dimensions"
     ]
    }
   ],
   "source": [
    "# After uncommenting below lines, please run your implementation and observe it\n",
    "\n",
    "D_pq = kl_divergence(p, q)\n",
    "D_qp = kl_divergence(q, p)\n",
    "D_py = kl_divergence(p, y)\n",
    "D_yq = kl_divergence(y, q)\n",
    "\n",
    "print(D_pq)\n",
    "print(D_qp)\n",
    "print(D_py)\n",
    "print(D_yq)"
   ]
  },
  {
   "cell_type": "markdown",
   "metadata": {
    "id": "1vyn4A0RNCYN"
   },
   "source": [
    "# Q4: *PixelCNN*\n",
    "In this part we are going to implement the masking and the generation parts for a very simplified version of the PixelCNN."
   ]
  },
  {
   "cell_type": "markdown",
   "metadata": {
    "id": "QS0059yeNgID"
   },
   "source": [
    "The model consist of one convolutional layer and fully-connected layer. Assume that inputs are 28x28 grayscale (0 to 255) images.\n",
    "\n",
    "You should first apply a masking strategy for 7x7 kernels.\n",
    "\n",
    "Then you should autoregressively (pixel by pixel) generate the image by passing each pixel to network."
   ]
  },
  {
   "cell_type": "code",
   "execution_count": null,
   "metadata": {
    "id": "trIi1e_ZktyJ"
   },
   "outputs": [],
   "source": [
    "image_size = 28\n",
    "KERNEL_SIZE = 7\n",
    "FILTER_NUM = 64\n",
    "STRIDE = 1\n",
    "PADDING = KERNEL_SIZE//2\n",
    "OUT = 256\n",
    "\n",
    "sample_img = np.zeros([image_size, image_size])\n",
    "\n",
    "filters = np.random.randn(KERNEL_SIZE, KERNEL_SIZE, FILTER_NUM)\n",
    "bias = np.random.randn(FILTER_NUM)\n",
    "fully_connected = np.random.randn(FILTER_NUM, OUT)\n",
    "\n",
    "############## SOLUTION ##############\n",
    "\n",
    "\n",
    "########## masking ###########\n",
    "mask = np.zeros(shape=KERNEL_SIZE)\n",
    "####### end of masking #######\n",
    "\n",
    "\n",
    "\n",
    "######### generation ##########\n",
    "\n",
    "###### end of generation ######\n",
    "\n",
    "\n",
    "########### END OF SOLUTION ###########\n",
    "\n"
   ]
  }
 ],
 "metadata": {
  "colab": {
   "collapsed_sections": [],
   "name": "inzva x METU ImageLab Joint Program Week 2 Questions Notebook.ipynb",
   "provenance": []
  },
  "kernelspec": {
   "display_name": "Python 3",
   "language": "python",
   "name": "python3"
  },
  "language_info": {
   "codemirror_mode": {
    "name": "ipython",
    "version": 3
   },
   "file_extension": ".py",
   "mimetype": "text/x-python",
   "name": "python",
   "nbconvert_exporter": "python",
   "pygments_lexer": "ipython3",
   "version": "3.8.10"
  }
 },
 "nbformat": 4,
 "nbformat_minor": 1
}
